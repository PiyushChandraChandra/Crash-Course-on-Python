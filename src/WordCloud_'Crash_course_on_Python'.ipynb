{
  "cells": [
    {
      "cell_type": "markdown",
      "metadata": {
        "id": "rTWsYafcGyLJ"
      },
      "source": [
        "# Final Project - Word Cloud\n",
        "### By Piyush Chandra Chandra"
      ]
    },
    {
      "cell_type": "code",
      "execution_count": 2,
      "metadata": {
        "colab": {
          "base_uri": "https://localhost:8080/"
        },
        "id": "x3GUbuX3GyLi",
        "outputId": "26906cc5-e060-4d86-8c00-ecc34e00bc22"
      },
      "outputs": [
        {
          "name": "stdout",
          "output_type": "stream",
          "text": [
            "Collecting wordcloudNote: you may need to restart the kernel to use updated packages.\n",
            "  Using cached wordcloud-1.8.1.tar.gz (220 kB)\n",
            "  Preparing metadata (setup.py): started\n",
            "  Preparing metadata (setup.py): finished with status 'done'\n",
            "Requirement already satisfied: numpy>=1.6.1 in c:\\program files (x86)\\python\\lib\\site-packages (from wordcloud) (1.21.5)\n",
            "Requirement already satisfied: pillow in c:\\program files (x86)\\python\\lib\\site-packages (from wordcloud) (8.4.0)\n",
            "Requirement already satisfied: matplotlib in c:\\program files (x86)\\python\\lib\\site-packages (from wordcloud) (3.5.1)\n",
            "Requirement already satisfied: kiwisolver>=1.0.1 in c:\\program files (x86)\\python\\lib\\site-packages (from matplotlib->wordcloud) (1.3.2)\n",
            "Requirement already satisfied: packaging>=20.0 in c:\\program files (x86)\\python\\lib\\site-packages (from matplotlib->wordcloud) (21.3)\n",
            "Requirement already satisfied: cycler>=0.10 in c:\\program files (x86)\\python\\lib\\site-packages (from matplotlib->wordcloud) (0.11.0)\n",
            "Requirement already satisfied: python-dateutil>=2.7 in c:\\program files (x86)\\python\\lib\\site-packages (from matplotlib->wordcloud) (2.8.2)\n",
            "Requirement already satisfied: pyparsing>=2.2.1 in c:\\program files (x86)\\python\\lib\\site-packages (from matplotlib->wordcloud) (3.0.6)\n",
            "Requirement already satisfied: fonttools>=4.22.0 in c:\\program files (x86)\\python\\lib\\site-packages (from matplotlib->wordcloud) (4.28.5)\n",
            "Requirement already satisfied: six>=1.5 in c:\\program files (x86)\\python\\lib\\site-packages (from python-dateutil>=2.7->matplotlib->wordcloud) (1.16.0)\n",
            "Using legacy 'setup.py install' for wordcloud, since package 'wheel' is not installed.\n",
            "Installing collected packages: wordcloud\n",
            "    Running setup.py install for wordcloud: started\n",
            "    Running setup.py install for wordcloud: finished with status 'error'\n",
            "\n"
          ]
        },
        {
          "name": "stderr",
          "output_type": "stream",
          "text": [
            "    ERROR: Command errored out with exit status 1:\n",
            "     command: 'C:\\Program Files (x86)\\Python\\python.exe' -u -c 'import io, os, sys, setuptools, tokenize; sys.argv[0] = '\"'\"'C:\\\\Program Files\\\\KMSpico\\\\temp\\\\pip-install-if27a65l\\\\wordcloud_4e284741c31545e9af73df2d56ea3979\\\\setup.py'\"'\"'; __file__='\"'\"'C:\\\\Program Files\\\\KMSpico\\\\temp\\\\pip-install-if27a65l\\\\wordcloud_4e284741c31545e9af73df2d56ea3979\\\\setup.py'\"'\"';f = getattr(tokenize, '\"'\"'open'\"'\"', open)(__file__) if os.path.exists(__file__) else io.StringIO('\"'\"'from setuptools import setup; setup()'\"'\"');code = f.read().replace('\"'\"'\\r\\n'\"'\"', '\"'\"'\\n'\"'\"');f.close();exec(compile(code, __file__, '\"'\"'exec'\"'\"'))' install --record 'C:\\Program Files\\KMSpico\\temp\\pip-record-x2_6mhpq\\install-record.txt' --single-version-externally-managed --compile --install-headers 'C:\\Program Files (x86)\\Python\\Include\\wordcloud'\n",
            "         cwd: C:\\Program Files\\KMSpico\\temp\\pip-install-if27a65l\\wordcloud_4e284741c31545e9af73df2d56ea3979\\\n",
            "    Complete output (20 lines):\n",
            "    running install\n",
            "    running build\n",
            "    running build_py\n",
            "    creating build\n",
            "    creating build\\lib.win-amd64-3.10\n",
            "    creating build\\lib.win-amd64-3.10\\wordcloud\n",
            "    copying wordcloud\\color_from_image.py -> build\\lib.win-amd64-3.10\\wordcloud\n",
            "    copying wordcloud\\tokenization.py -> build\\lib.win-amd64-3.10\\wordcloud\n",
            "    copying wordcloud\\wordcloud.py -> build\\lib.win-amd64-3.10\\wordcloud\n",
            "    copying wordcloud\\wordcloud_cli.py -> build\\lib.win-amd64-3.10\\wordcloud\n",
            "    copying wordcloud\\_version.py -> build\\lib.win-amd64-3.10\\wordcloud\n",
            "    copying wordcloud\\__init__.py -> build\\lib.win-amd64-3.10\\wordcloud\n",
            "    copying wordcloud\\__main__.py -> build\\lib.win-amd64-3.10\\wordcloud\n",
            "    copying wordcloud\\stopwords -> build\\lib.win-amd64-3.10\\wordcloud\n",
            "    copying wordcloud\\DroidSansMono.ttf -> build\\lib.win-amd64-3.10\\wordcloud\n",
            "    UPDATING build\\lib.win-amd64-3.10\\wordcloud/_version.py\n",
            "    set build\\lib.win-amd64-3.10\\wordcloud/_version.py to '1.8.1'\n",
            "    running build_ext\n",
            "    building 'wordcloud.query_integral_image' extension\n",
            "    error: Microsoft Visual C++ 14.0 or greater is required. Get it with \"Microsoft C++ Build Tools\": https://visualstudio.microsoft.com/visual-cpp-build-tools/\n",
            "    ----------------------------------------\n",
            "ERROR: Command errored out with exit status 1: 'C:\\Program Files (x86)\\Python\\python.exe' -u -c 'import io, os, sys, setuptools, tokenize; sys.argv[0] = '\"'\"'C:\\\\Program Files\\\\KMSpico\\\\temp\\\\pip-install-if27a65l\\\\wordcloud_4e284741c31545e9af73df2d56ea3979\\\\setup.py'\"'\"'; __file__='\"'\"'C:\\\\Program Files\\\\KMSpico\\\\temp\\\\pip-install-if27a65l\\\\wordcloud_4e284741c31545e9af73df2d56ea3979\\\\setup.py'\"'\"';f = getattr(tokenize, '\"'\"'open'\"'\"', open)(__file__) if os.path.exists(__file__) else io.StringIO('\"'\"'from setuptools import setup; setup()'\"'\"');code = f.read().replace('\"'\"'\\r\\n'\"'\"', '\"'\"'\\n'\"'\"');f.close();exec(compile(code, __file__, '\"'\"'exec'\"'\"'))' install --record 'C:\\Program Files\\KMSpico\\temp\\pip-record-x2_6mhpq\\install-record.txt' --single-version-externally-managed --compile --install-headers 'C:\\Program Files (x86)\\Python\\Include\\wordcloud' Check the logs for full command output.\n"
          ]
        },
        {
          "name": "stdout",
          "output_type": "stream",
          "text": [
            "Requirement already satisfied: fileupload in c:\\program files (x86)\\python\\lib\\site-packages (0.1.5)\n",
            "Requirement already satisfied: ipywidgets>=5.1 in c:\\program files (x86)\\python\\lib\\site-packages (from fileupload) (7.6.5)\n",
            "Requirement already satisfied: traitlets>=4.2 in c:\\program files (x86)\\python\\lib\\site-packages (from fileupload) (5.1.1)\n",
            "Requirement already satisfied: notebook>=4.2 in c:\\program files (x86)\\python\\lib\\site-packages (from fileupload) (6.4.6)\n",
            "Requirement already satisfied: ipython-genutils~=0.2.0 in c:\\program files (x86)\\python\\lib\\site-packages (from ipywidgets>=5.1->fileupload) (0.2.0)\n",
            "Requirement already satisfied: ipython>=4.0.0 in c:\\program files (x86)\\python\\lib\\site-packages (from ipywidgets>=5.1->fileupload) (7.30.1)\n",
            "Requirement already satisfied: ipykernel>=4.5.1 in c:\\program files (x86)\\python\\lib\\site-packages (from ipywidgets>=5.1->fileupload) (6.6.0)\n",
            "Requirement already satisfied: nbformat>=4.2.0 in c:\\program files (x86)\\python\\lib\\site-packages (from ipywidgets>=5.1->fileupload) (5.1.3)\n",
            "Requirement already satisfied: jupyterlab-widgets>=1.0.0 in c:\\program files (x86)\\python\\lib\\site-packages (from ipywidgets>=5.1->fileupload) (1.0.2)\n",
            "Requirement already satisfied: widgetsnbextension~=3.5.0 in c:\\program files (x86)\\python\\lib\\site-packages (from ipywidgets>=5.1->fileupload) (3.5.2)\n",
            "Requirement already satisfied: tornado>=6.1 in c:\\program files (x86)\\python\\lib\\site-packages (from notebook>=4.2->fileupload) (6.1)\n",
            "Requirement already satisfied: nbconvert in c:\\program files (x86)\\python\\lib\\site-packages (from notebook>=4.2->fileupload) (6.3.0)\n",
            "Requirement already satisfied: jupyter-client>=5.3.4 in c:\\program files (x86)\\python\\lib\\site-packages (from notebook>=4.2->fileupload) (7.1.0)\n",
            "Requirement already satisfied: prometheus-client in c:\\program files (x86)\\python\\lib\\site-packages (from notebook>=4.2->fileupload) (0.12.0)\n",
            "Requirement already satisfied: pyzmq>=17 in c:\\program files (x86)\\python\\lib\\site-packages (from notebook>=4.2->fileupload) (22.3.0)\n",
            "Requirement already satisfied: argon2-cffi in c:\\program files (x86)\\python\\lib\\site-packages (from notebook>=4.2->fileupload) (21.3.0)\n",
            "Requirement already satisfied: Send2Trash>=1.8.0 in c:\\program files (x86)\\python\\lib\\site-packages (from notebook>=4.2->fileupload) (1.8.0)\n",
            "Requirement already satisfied: jinja2 in c:\\program files (x86)\\python\\lib\\site-packages (from notebook>=4.2->fileupload) (3.0.3)\n",
            "Requirement already satisfied: nest-asyncio>=1.5 in c:\\program files (x86)\\python\\lib\\site-packages (from notebook>=4.2->fileupload) (1.5.4)\n",
            "Requirement already satisfied: jupyter-core>=4.6.1 in c:\\program files (x86)\\python\\lib\\site-packages (from notebook>=4.2->fileupload) (4.9.1)\n",
            "Requirement already satisfied: terminado>=0.8.3 in c:\\program files (x86)\\python\\lib\\site-packages (from notebook>=4.2->fileupload) (0.12.1)\n",
            "Requirement already satisfied: matplotlib-inline<0.2.0,>=0.1.0 in c:\\program files (x86)\\python\\lib\\site-packages (from ipykernel>=4.5.1->ipywidgets>=5.1->fileupload) (0.1.3)\n",
            "Requirement already satisfied: debugpy<2.0,>=1.0.0 in c:\\program files (x86)\\python\\lib\\site-packages (from ipykernel>=4.5.1->ipywidgets>=5.1->fileupload) (1.5.1)\n",
            "Requirement already satisfied: pygments in c:\\program files (x86)\\python\\lib\\site-packages (from ipython>=4.0.0->ipywidgets>=5.1->fileupload) (2.10.0)\n",
            "Requirement already satisfied: jedi>=0.16 in c:\\program files (x86)\\python\\lib\\site-packages (from ipython>=4.0.0->ipywidgets>=5.1->fileupload) (0.18.1)\n",
            "Requirement already satisfied: pickleshare in c:\\program files (x86)\\python\\lib\\site-packages (from ipython>=4.0.0->ipywidgets>=5.1->fileupload) (0.7.5)\n",
            "Requirement already satisfied: setuptools>=18.5 in c:\\program files (x86)\\python\\lib\\site-packages (from ipython>=4.0.0->ipywidgets>=5.1->fileupload) (58.1.0)\n",
            "Requirement already satisfied: decorator in c:\\program files (x86)\\python\\lib\\site-packages (from ipython>=4.0.0->ipywidgets>=5.1->fileupload) (5.1.0)\n",
            "Requirement already satisfied: prompt-toolkit!=3.0.0,!=3.0.1,<3.1.0,>=2.0.0 in c:\\program files (x86)\\python\\lib\\site-packages (from ipython>=4.0.0->ipywidgets>=5.1->fileupload) (3.0.24)\n",
            "Requirement already satisfied: backcall in c:\\program files (x86)\\python\\lib\\site-packages (from ipython>=4.0.0->ipywidgets>=5.1->fileupload) (0.2.0)\n",
            "Requirement already satisfied: colorama in c:\\program files (x86)\\python\\lib\\site-packages (from ipython>=4.0.0->ipywidgets>=5.1->fileupload) (0.4.4)\n",
            "Requirement already satisfied: python-dateutil>=2.1 in c:\\program files (x86)\\python\\lib\\site-packages (from jupyter-client>=5.3.4->notebook>=4.2->fileupload) (2.8.2)\n",
            "Requirement already satisfied: entrypoints in c:\\program files (x86)\\python\\lib\\site-packages (from jupyter-client>=5.3.4->notebook>=4.2->fileupload) (0.3)\n",
            "Requirement already satisfied: pywin32>=1.0 in c:\\program files (x86)\\python\\lib\\site-packages (from jupyter-core>=4.6.1->notebook>=4.2->fileupload) (303)\n",
            "Requirement already satisfied: jsonschema!=2.5.0,>=2.4 in c:\\program files (x86)\\python\\lib\\site-packages (from nbformat>=4.2.0->ipywidgets>=5.1->fileupload) (4.3.2)\n",
            "Requirement already satisfied: pywinpty>=1.1.0 in c:\\program files (x86)\\python\\lib\\site-packages (from terminado>=0.8.3->notebook>=4.2->fileupload) (1.1.6)\n",
            "Requirement already satisfied: argon2-cffi-bindings in c:\\program files (x86)\\python\\lib\\site-packages (from argon2-cffi->notebook>=4.2->fileupload) (21.2.0)\n",
            "Requirement already satisfied: MarkupSafe>=2.0 in c:\\program files (x86)\\python\\lib\\site-packages (from jinja2->notebook>=4.2->fileupload) (2.0.1)\n",
            "Requirement already satisfied: bleach in c:\\program files (x86)\\python\\lib\\site-packages (from nbconvert->notebook>=4.2->fileupload) (4.1.0)\n",
            "Requirement already satisfied: testpath in c:\\program files (x86)\\python\\lib\\site-packages (from nbconvert->notebook>=4.2->fileupload) (0.5.0)\n",
            "Requirement already satisfied: defusedxml in c:\\program files (x86)\\python\\lib\\site-packages (from nbconvert->notebook>=4.2->fileupload) (0.7.1)\n",
            "Requirement already satisfied: pandocfilters>=1.4.1 in c:\\program files (x86)\\python\\lib\\site-packages (from nbconvert->notebook>=4.2->fileupload) (1.5.0)\n",
            "Requirement already satisfied: mistune<2,>=0.8.1 in c:\\program files (x86)\\python\\lib\\site-packages (from nbconvert->notebook>=4.2->fileupload) (0.8.4)\n",
            "Requirement already satisfied: nbclient<0.6.0,>=0.5.0 in c:\\program files (x86)\\python\\lib\\site-packages (from nbconvert->notebook>=4.2->fileupload) (0.5.9)\n",
            "Requirement already satisfied: jupyterlab-pygments in c:\\program files (x86)\\python\\lib\\site-packages (from nbconvert->notebook>=4.2->fileupload) (0.1.2)\n",
            "Requirement already satisfied: parso<0.9.0,>=0.8.0 in c:\\program files (x86)\\python\\lib\\site-packages (from jedi>=0.16->ipython>=4.0.0->ipywidgets>=5.1->fileupload) (0.8.3)\n",
            "Requirement already satisfied: attrs>=17.4.0 in c:\\program files (x86)\\python\\lib\\site-packages (from jsonschema!=2.5.0,>=2.4->nbformat>=4.2.0->ipywidgets>=5.1->fileupload) (21.2.0)\n",
            "Requirement already satisfied: pyrsistent!=0.17.0,!=0.17.1,!=0.17.2,>=0.14.0 in c:\\program files (x86)\\python\\lib\\site-packages (from jsonschema!=2.5.0,>=2.4->nbformat>=4.2.0->ipywidgets>=5.1->fileupload) (0.18.0)\n",
            "Requirement already satisfied: wcwidth in c:\\program files (x86)\\python\\lib\\site-packages (from prompt-toolkit!=3.0.0,!=3.0.1,<3.1.0,>=2.0.0->ipython>=4.0.0->ipywidgets>=5.1->fileupload) (0.2.5)\n",
            "Requirement already satisfied: six>=1.5 in c:\\program files (x86)\\python\\lib\\site-packages (from python-dateutil>=2.1->jupyter-client>=5.3.4->notebook>=4.2->fileupload) (1.16.0)\n",
            "Requirement already satisfied: cffi>=1.0.1 in c:\\program files (x86)\\python\\lib\\site-packages (from argon2-cffi-bindings->argon2-cffi->notebook>=4.2->fileupload) (1.15.0)\n",
            "Requirement already satisfied: webencodings in c:\\program files (x86)\\python\\lib\\site-packages (from bleach->nbconvert->notebook>=4.2->fileupload) (0.5.1)\n",
            "Requirement already satisfied: packaging in c:\\program files (x86)\\python\\lib\\site-packages (from bleach->nbconvert->notebook>=4.2->fileupload) (21.3)\n",
            "Requirement already satisfied: pycparser in c:\\program files (x86)\\python\\lib\\site-packages (from cffi>=1.0.1->argon2-cffi-bindings->argon2-cffi->notebook>=4.2->fileupload) (2.21)\n",
            "Requirement already satisfied: pyparsing!=3.0.5,>=2.0.2 in c:\\program files (x86)\\python\\lib\\site-packages (from packaging->bleach->nbconvert->notebook>=4.2->fileupload) (3.0.6)\n",
            "Note: you may need to restart the kernel to use updated packages.\n",
            "Requirement already satisfied: ipywidgets in c:\\program files (x86)\\python\\lib\\site-packages (7.6.5)\n",
            "Requirement already satisfied: traitlets>=4.3.1 in c:\\program files (x86)\\python\\lib\\site-packages (from ipywidgets) (5.1.1)\n",
            "Requirement already satisfied: widgetsnbextension~=3.5.0 in c:\\program files (x86)\\python\\lib\\site-packages (from ipywidgets) (3.5.2)\n",
            "Requirement already satisfied: nbformat>=4.2.0 in c:\\program files (x86)\\python\\lib\\site-packages (from ipywidgets) (5.1.3)\n",
            "Requirement already satisfied: ipython>=4.0.0 in c:\\program files (x86)\\python\\lib\\site-packages (from ipywidgets) (7.30.1)\n",
            "Requirement already satisfied: ipython-genutils~=0.2.0 in c:\\program files (x86)\\python\\lib\\site-packages (from ipywidgets) (0.2.0)\n",
            "Requirement already satisfied: ipykernel>=4.5.1 in c:\\program files (x86)\\python\\lib\\site-packages (from ipywidgets) (6.6.0)\n",
            "Requirement already satisfied: jupyterlab-widgets>=1.0.0 in c:\\program files (x86)\\python\\lib\\site-packages (from ipywidgets) (1.0.2)\n",
            "Requirement already satisfied: debugpy<2.0,>=1.0.0 in c:\\program files (x86)\\python\\lib\\site-packages (from ipykernel>=4.5.1->ipywidgets) (1.5.1)\n",
            "Requirement already satisfied: tornado<7.0,>=4.2 in c:\\program files (x86)\\python\\lib\\site-packages (from ipykernel>=4.5.1->ipywidgets) (6.1)\n",
            "Requirement already satisfied: jupyter-client<8.0 in c:\\program files (x86)\\python\\lib\\site-packages (from ipykernel>=4.5.1->ipywidgets) (7.1.0)\n",
            "Requirement already satisfied: matplotlib-inline<0.2.0,>=0.1.0 in c:\\program files (x86)\\python\\lib\\site-packages (from ipykernel>=4.5.1->ipywidgets) (0.1.3)\n",
            "Requirement already satisfied: pickleshare in c:\\program files (x86)\\python\\lib\\site-packages (from ipython>=4.0.0->ipywidgets) (0.7.5)\n",
            "Requirement already satisfied: decorator in c:\\program files (x86)\\python\\lib\\site-packages (from ipython>=4.0.0->ipywidgets) (5.1.0)\n",
            "Requirement already satisfied: backcall in c:\\program files (x86)\\python\\lib\\site-packages (from ipython>=4.0.0->ipywidgets) (0.2.0)\n",
            "Requirement already satisfied: colorama in c:\\program files (x86)\\python\\lib\\site-packages (from ipython>=4.0.0->ipywidgets) (0.4.4)\n",
            "Requirement already satisfied: prompt-toolkit!=3.0.0,!=3.0.1,<3.1.0,>=2.0.0 in c:\\program files (x86)\\python\\lib\\site-packages (from ipython>=4.0.0->ipywidgets) (3.0.24)\n",
            "Requirement already satisfied: jedi>=0.16 in c:\\program files (x86)\\python\\lib\\site-packages (from ipython>=4.0.0->ipywidgets) (0.18.1)\n",
            "Requirement already satisfied: pygments in c:\\program files (x86)\\python\\lib\\site-packages (from ipython>=4.0.0->ipywidgets) (2.10.0)\n",
            "Requirement already satisfied: setuptools>=18.5 in c:\\program files (x86)\\python\\lib\\site-packages (from ipython>=4.0.0->ipywidgets) (58.1.0)\n",
            "Requirement already satisfied: jsonschema!=2.5.0,>=2.4 in c:\\program files (x86)\\python\\lib\\site-packages (from nbformat>=4.2.0->ipywidgets) (4.3.2)\n",
            "Requirement already satisfied: jupyter-core in c:\\program files (x86)\\python\\lib\\site-packages (from nbformat>=4.2.0->ipywidgets) (4.9.1)\n",
            "Requirement already satisfied: notebook>=4.4.1 in c:\\program files (x86)\\python\\lib\\site-packages (from widgetsnbextension~=3.5.0->ipywidgets) (6.4.6)\n",
            "Requirement already satisfied: parso<0.9.0,>=0.8.0 in c:\\program files (x86)\\python\\lib\\site-packages (from jedi>=0.16->ipython>=4.0.0->ipywidgets) (0.8.3)\n",
            "Requirement already satisfied: pyrsistent!=0.17.0,!=0.17.1,!=0.17.2,>=0.14.0 in c:\\program files (x86)\\python\\lib\\site-packages (from jsonschema!=2.5.0,>=2.4->nbformat>=4.2.0->ipywidgets) (0.18.0)\n",
            "Requirement already satisfied: attrs>=17.4.0 in c:\\program files (x86)\\python\\lib\\site-packages (from jsonschema!=2.5.0,>=2.4->nbformat>=4.2.0->ipywidgets) (21.2.0)\n",
            "Requirement already satisfied: pyzmq>=13 in c:\\program files (x86)\\python\\lib\\site-packages (from jupyter-client<8.0->ipykernel>=4.5.1->ipywidgets) (22.3.0)\n",
            "Requirement already satisfied: entrypoints in c:\\program files (x86)\\python\\lib\\site-packages (from jupyter-client<8.0->ipykernel>=4.5.1->ipywidgets) (0.3)\n",
            "Requirement already satisfied: python-dateutil>=2.1 in c:\\program files (x86)\\python\\lib\\site-packages (from jupyter-client<8.0->ipykernel>=4.5.1->ipywidgets) (2.8.2)\n",
            "Requirement already satisfied: nest-asyncio>=1.5 in c:\\program files (x86)\\python\\lib\\site-packages (from jupyter-client<8.0->ipykernel>=4.5.1->ipywidgets) (1.5.4)\n",
            "Requirement already satisfied: pywin32>=1.0 in c:\\program files (x86)\\python\\lib\\site-packages (from jupyter-core->nbformat>=4.2.0->ipywidgets) (303)\n",
            "Requirement already satisfied: Send2Trash>=1.8.0 in c:\\program files (x86)\\python\\lib\\site-packages (from notebook>=4.4.1->widgetsnbextension~=3.5.0->ipywidgets) (1.8.0)\n",
            "Requirement already satisfied: argon2-cffi in c:\\program files (x86)\\python\\lib\\site-packages (from notebook>=4.4.1->widgetsnbextension~=3.5.0->ipywidgets) (21.3.0)\n",
            "Requirement already satisfied: terminado>=0.8.3 in c:\\program files (x86)\\python\\lib\\site-packages (from notebook>=4.4.1->widgetsnbextension~=3.5.0->ipywidgets) (0.12.1)\n",
            "Requirement already satisfied: prometheus-client in c:\\program files (x86)\\python\\lib\\site-packages (from notebook>=4.4.1->widgetsnbextension~=3.5.0->ipywidgets) (0.12.0)\n",
            "Requirement already satisfied: nbconvert in c:\\program files (x86)\\python\\lib\\site-packages (from notebook>=4.4.1->widgetsnbextension~=3.5.0->ipywidgets) (6.3.0)\n",
            "Requirement already satisfied: jinja2 in c:\\program files (x86)\\python\\lib\\site-packages (from notebook>=4.4.1->widgetsnbextension~=3.5.0->ipywidgets) (3.0.3)\n",
            "Requirement already satisfied: wcwidth in c:\\program files (x86)\\python\\lib\\site-packages (from prompt-toolkit!=3.0.0,!=3.0.1,<3.1.0,>=2.0.0->ipython>=4.0.0->ipywidgets) (0.2.5)\n",
            "Requirement already satisfied: six>=1.5 in c:\\program files (x86)\\python\\lib\\site-packages (from python-dateutil>=2.1->jupyter-client<8.0->ipykernel>=4.5.1->ipywidgets) (1.16.0)\n",
            "Requirement already satisfied: pywinpty>=1.1.0 in c:\\program files (x86)\\python\\lib\\site-packages (from terminado>=0.8.3->notebook>=4.4.1->widgetsnbextension~=3.5.0->ipywidgets) (1.1.6)\n",
            "Requirement already satisfied: argon2-cffi-bindings in c:\\program files (x86)\\python\\lib\\site-packages (from argon2-cffi->notebook>=4.4.1->widgetsnbextension~=3.5.0->ipywidgets) (21.2.0)\n",
            "Requirement already satisfied: MarkupSafe>=2.0 in c:\\program files (x86)\\python\\lib\\site-packages (from jinja2->notebook>=4.4.1->widgetsnbextension~=3.5.0->ipywidgets) (2.0.1)\n",
            "Requirement already satisfied: bleach in c:\\program files (x86)\\python\\lib\\site-packages (from nbconvert->notebook>=4.4.1->widgetsnbextension~=3.5.0->ipywidgets) (4.1.0)\n",
            "Requirement already satisfied: nbclient<0.6.0,>=0.5.0 in c:\\program files (x86)\\python\\lib\\site-packages (from nbconvert->notebook>=4.4.1->widgetsnbextension~=3.5.0->ipywidgets) (0.5.9)\n",
            "Requirement already satisfied: pandocfilters>=1.4.1 in c:\\program files (x86)\\python\\lib\\site-packages (from nbconvert->notebook>=4.4.1->widgetsnbextension~=3.5.0->ipywidgets) (1.5.0)\n",
            "Requirement already satisfied: defusedxml in c:\\program files (x86)\\python\\lib\\site-packages (from nbconvert->notebook>=4.4.1->widgetsnbextension~=3.5.0->ipywidgets) (0.7.1)\n",
            "Requirement already satisfied: testpath in c:\\program files (x86)\\python\\lib\\site-packages (from nbconvert->notebook>=4.4.1->widgetsnbextension~=3.5.0->ipywidgets) (0.5.0)\n",
            "Requirement already satisfied: mistune<2,>=0.8.1 in c:\\program files (x86)\\python\\lib\\site-packages (from nbconvert->notebook>=4.4.1->widgetsnbextension~=3.5.0->ipywidgets) (0.8.4)\n",
            "Requirement already satisfied: jupyterlab-pygments in c:\\program files (x86)\\python\\lib\\site-packages (from nbconvert->notebook>=4.4.1->widgetsnbextension~=3.5.0->ipywidgets) (0.1.2)\n",
            "Requirement already satisfied: cffi>=1.0.1 in c:\\program files (x86)\\python\\lib\\site-packages (from argon2-cffi-bindings->argon2-cffi->notebook>=4.4.1->widgetsnbextension~=3.5.0->ipywidgets) (1.15.0)\n",
            "Requirement already satisfied: webencodings in c:\\program files (x86)\\python\\lib\\site-packages (from bleach->nbconvert->notebook>=4.4.1->widgetsnbextension~=3.5.0->ipywidgets) (0.5.1)\n",
            "Requirement already satisfied: packaging in c:\\program files (x86)\\python\\lib\\site-packages (from bleach->nbconvert->notebook>=4.4.1->widgetsnbextension~=3.5.0->ipywidgets) (21.3)\n",
            "Requirement already satisfied: pycparser in c:\\program files (x86)\\python\\lib\\site-packages (from cffi>=1.0.1->argon2-cffi-bindings->argon2-cffi->notebook>=4.4.1->widgetsnbextension~=3.5.0->ipywidgets) (2.21)\n",
            "Requirement already satisfied: pyparsing!=3.0.5,>=2.0.2 in c:\\program files (x86)\\python\\lib\\site-packages (from packaging->bleach->nbconvert->notebook>=4.4.1->widgetsnbextension~=3.5.0->ipywidgets) (3.0.6)\n",
            "Note: you may need to restart the kernel to use updated packages.\n"
          ]
        },
        {
          "name": "stderr",
          "output_type": "stream",
          "text": [
            "UsageError: Line magic function `%jupyter` not found.\n"
          ]
        }
      ],
      "source": [
        "%pip install wordcloud\n",
        "%pip install fileupload\n",
        "%pip install ipywidgets\n",
        "%jupyter nbextension install --py --user fileupload\n",
        "%jupyter nbextension enable --py fileupload\n",
        "\n",
        "import wordcloud\n",
        "import numpy as np\n",
        "from matplotlib import pyplot as plt\n",
        "from IPython.display import display\n",
        "import fileupload\n",
        "import io\n",
        "import sys"
      ]
    },
    {
      "cell_type": "code",
      "execution_count": 3,
      "metadata": {
        "id": "bWRxbbGeGyLq"
      },
      "outputs": [],
      "source": [
        "file = open('Engineer.txt','r')\n",
        "file_contents = file.read()"
      ]
    },
    {
      "cell_type": "code",
      "execution_count": 4,
      "metadata": {
        "id": "Idlc9ibDGyLz"
      },
      "outputs": [],
      "source": [
        "def calculate_frequencies(file_contents):\n",
        "    punctuations = '''!()-[]{};:'\"\\,<>./?@#$%^&*_~'''\n",
        "    uninteresting_words = [\"the\", \"a\", \"to\", \"if\", \"who\", \"whom\", \"this\", \"that\", \"am\", \"been\", \"being\", \\\n",
        "    \"have\", \"has\", \"had\", \"do\", \"does\", \"did\", \"but\", \"is\", \"it\", \"of\", \"and\", \"or\", \"an\", \"as\", \"i\", \"me\", \"my\", \\\n",
        "    \"we\", \"our\", \"ours\", \"you\", \"your\", \"yours\", \"he\", \"she\", \"him\", \"his\", \"her\", \"hers\", \"its\", \"they\", \"them\", \\\n",
        "    \"their\", \"what\", \"which\", \"at\", \"are\", \"was\", \"were\", \"be\", \"by\", \"with\", \"from\", \"here\", \"when\", \"where\", \"how\", \\\n",
        "    \"all\", \"any\", \"both\", \"each\", \"few\", \"more\", \"some\", \"such\", \"no\", \"nor\", \"too\", \"very\", \"can\", \"will\", \"just\"]\n",
        "    \n",
        "    new_file_contents = \"\".join((char if char.isalpha() else \" \") for char in file_contents).lower().split()\n",
        "    filter  = [word for word in new_file_contents if word not in list(punctuations) + uninteresting_words]\n",
        "    frequencies = {word: file_contents.count(word) for word in filter}\n",
        "    \n",
        "    #wordcloud\n",
        "    cloud = wordcloud.WordCloud()\n",
        "    cloud.generate_from_frequencies(frequencies)\n",
        "    return cloud.to_array()"
      ]
    },
    {
      "cell_type": "code",
      "execution_count": null,
      "metadata": {},
      "outputs": [],
      "source": [
        "myimage = calculate_frequencies(file_contents)\n",
        "plt.imshow(myimage, interpolation = 'nearest')\n",
        "plt.axis('off')\n",
        "plt.show()"
      ]
    }
  ],
  "metadata": {
    "colab": {
      "name": "WordCloud 'Crash course on Python'.ipynb",
      "provenance": []
    },
    "coursera": {
      "course_slug": "python-crash-course",
      "graded_item_id": "Z5d28",
      "launcher_item_id": "eSjyd"
    },
    "kernelspec": {
      "display_name": "Python 3",
      "language": "python",
      "name": "python3"
    },
    "language_info": {
      "codemirror_mode": {
        "name": "ipython",
        "version": 3
      },
      "file_extension": ".py",
      "mimetype": "text/x-python",
      "name": "python",
      "nbconvert_exporter": "python",
      "pygments_lexer": "ipython3",
      "version": "3.10.1"
    }
  },
  "nbformat": 4,
  "nbformat_minor": 0
}
